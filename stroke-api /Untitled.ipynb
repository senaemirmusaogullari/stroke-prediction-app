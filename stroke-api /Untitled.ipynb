{
 "cells": [
  {
   "cell_type": "code",
   "execution_count": 1,
   "id": "18967f46-eb44-4ead-8ae2-17e9d075e93b",
   "metadata": {},
   "outputs": [
    {
     "data": {
      "text/plain": [
       "['gender',\n",
       " 'age',\n",
       " 'hypertension',\n",
       " 'heart_disease',\n",
       " 'ever_married',\n",
       " 'residence_type',\n",
       " 'avg_glucose_level',\n",
       " 'bmi',\n",
       " 'work_type_Never_worked',\n",
       " 'work_type_Private',\n",
       " 'work_type_Self-employed',\n",
       " 'work_type_children',\n",
       " 'smoking_status_formerly smoked',\n",
       " 'smoking_status_never smoked',\n",
       " 'smoking_status_smokes']"
      ]
     },
     "execution_count": 1,
     "metadata": {},
     "output_type": "execute_result"
    }
   ],
   "source": [
    "import joblib\n",
    "\n",
    "# Modeli yükle\n",
    "model = joblib.load(\"xgboost_stroke_model.pkl\")\n",
    "\n",
    "# Özellik isimlerini al\n",
    "model.get_booster().feature_names"
   ]
  },
  {
   "cell_type": "code",
   "execution_count": null,
   "id": "ebb8522a-89ce-423e-97dd-6205f1f4ddab",
   "metadata": {},
   "outputs": [],
   "source": []
  }
 ],
 "metadata": {
  "kernelspec": {
   "display_name": "Python 3 (ipykernel)",
   "language": "python",
   "name": "python3"
  },
  "language_info": {
   "codemirror_mode": {
    "name": "ipython",
    "version": 3
   },
   "file_extension": ".py",
   "mimetype": "text/x-python",
   "name": "python",
   "nbconvert_exporter": "python",
   "pygments_lexer": "ipython3",
   "version": "3.13.3"
  }
 },
 "nbformat": 4,
 "nbformat_minor": 5
}
